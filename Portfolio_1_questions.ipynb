{
 "cells": [
  {
   "cell_type": "code",
   "execution_count": 35,
   "id": "64a9af24",
   "metadata": {},
   "outputs": [],
   "source": [
    "student_name = \"Laxmi Prasanna Akula\"\n",
    "student_id = \"47999233\""
   ]
  },
  {
   "cell_type": "markdown",
   "id": "c08f3e99",
   "metadata": {},
   "source": [
    "### Analysis of an E-commerce Dataset\n",
    "\n",
    "We have been provided with a combined e-commerce dataset. In this dataset, each user has the ability to post a rating and review for the products they purchased. Additionally, other users can evaluate the initial rating and review by expressing their trust or distrust.\n",
    "\n",
    "This dataset includes a wealth of information for each user. Details such as their profile, ID, gender, city of birth, product ratings (on a scale of 1-5), reviews, and the prices of the products they purchased are all included. Moreover, for each product rating, we have information about the product name, ID, price, and category, the rating score, the timestamp of the rating and review, and the average helpfulness of the rating given by others (on a scale of 1-5).\n",
    "\n",
    "The dataset is from several data sources, and we have merged all the data into a single CSV file named 'A Combined E-commerce Dataset.csv'. The structure of this dataset is represented in the header shown below.\n",
    "\n",
    "| userId | gender | rating | review| item | category | helpfulness | timestamp | item_id | item_price | user_city|\n",
    "\n",
    "    | ---- | ---- | ---- | ---- | ---- | ---- | ---- | ---- | ---- |  ---- |  ---- |  \n",
    "    \n",
    "#### Description of Fields\n",
    "\n",
    "* __userId__ - the user's id\n",
    "* __gender__ - the user's gender\n",
    "* __rating__ - the user's rating towards the item\n",
    "* __review__ - the user's review towards the item\n",
    "* __item__ - the item's name\n",
    "* __category__ - the category of the item\n",
    "* __helpfulness__ - the average helpfulness of this rating\n",
    "* __timestamp__ - the timestamp when the rating is created\n",
    "* __item_id__ - the item's id\n",
    "* __item_price__ - the item's price\n",
    "* __user_city__ - the city of user's birth\n",
    "\n",
    "Note that, a user may rate multiple items and an item may receive ratings and reviews from multiple users. The \"helpfulness\" is an average value based on all the helpfulness values given by others.\n",
    "\n",
    "There are four questions to explore with the data as shown below.\n",
    "\n",
    "\n",
    "\n",
    "<img src=\"data-relation.png\" align=\"left\" width=\"400\"/>\n"
   ]
  },
  {
   "cell_type": "markdown",
   "id": "9e8c5330",
   "metadata": {},
   "source": [
    " #### Q1. Remove missing data\n",
    " \n",
    "Please remove the following records in the csv file: \n",
    " \n",
    " * gender/rating/helpfulness is missing\n",
    " * review is 'none'\n",
    "\n",
    "__Display the DataFrame, counting number of Null values in each column, and print the length of the data__ before and after removing the missing data.  "
   ]
  },
  {
   "cell_type": "markdown",
   "id": "20e8bcaf",
   "metadata": {},
   "source": [
    "**A1. Displying the DataFrame**"
   ]
  },
  {
   "cell_type": "code",
   "execution_count": 16,
   "id": "9fdb6c22",
   "metadata": {},
   "outputs": [
    {
     "data": {
      "text/html": [
       "<div>\n",
       "<style scoped>\n",
       "    .dataframe tbody tr th:only-of-type {\n",
       "        vertical-align: middle;\n",
       "    }\n",
       "\n",
       "    .dataframe tbody tr th {\n",
       "        vertical-align: top;\n",
       "    }\n",
       "\n",
       "    .dataframe thead th {\n",
       "        text-align: right;\n",
       "    }\n",
       "</style>\n",
       "<table border=\"1\" class=\"dataframe\">\n",
       "  <thead>\n",
       "    <tr style=\"text-align: right;\">\n",
       "      <th></th>\n",
       "      <th>userId</th>\n",
       "      <th>timestamp</th>\n",
       "      <th>review</th>\n",
       "      <th>item</th>\n",
       "      <th>rating</th>\n",
       "      <th>helpfulness</th>\n",
       "      <th>gender</th>\n",
       "      <th>category</th>\n",
       "      <th>item_id</th>\n",
       "      <th>item_price</th>\n",
       "      <th>user_city</th>\n",
       "    </tr>\n",
       "  </thead>\n",
       "  <tbody>\n",
       "    <tr>\n",
       "      <th>0</th>\n",
       "      <td>4051</td>\n",
       "      <td>12807</td>\n",
       "      <td>Great job for what it is!</td>\n",
       "      <td>eBay</td>\n",
       "      <td>5.0</td>\n",
       "      <td>2.0</td>\n",
       "      <td>F</td>\n",
       "      <td>Online Stores &amp; Services</td>\n",
       "      <td>88</td>\n",
       "      <td>149.00</td>\n",
       "      <td>39</td>\n",
       "    </tr>\n",
       "    <tr>\n",
       "      <th>1</th>\n",
       "      <td>4052</td>\n",
       "      <td>122899</td>\n",
       "      <td>Free Access Worth your Time</td>\n",
       "      <td>NetZero</td>\n",
       "      <td>5.0</td>\n",
       "      <td>0.0</td>\n",
       "      <td>F</td>\n",
       "      <td>Online Stores &amp; Services</td>\n",
       "      <td>46</td>\n",
       "      <td>53.00</td>\n",
       "      <td>39</td>\n",
       "    </tr>\n",
       "    <tr>\n",
       "      <th>2</th>\n",
       "      <td>33</td>\n",
       "      <td>12700</td>\n",
       "      <td>AOL..I love you!!!!!!!!!!!!</td>\n",
       "      <td>AOL (America Online)</td>\n",
       "      <td>5.0</td>\n",
       "      <td>4.0</td>\n",
       "      <td>F</td>\n",
       "      <td>Online Stores &amp; Services</td>\n",
       "      <td>0</td>\n",
       "      <td>145.84</td>\n",
       "      <td>31</td>\n",
       "    </tr>\n",
       "    <tr>\n",
       "      <th>3</th>\n",
       "      <td>33</td>\n",
       "      <td>21000</td>\n",
       "      <td>EBAY!!!  I LOVE YOU!!!! :-)*</td>\n",
       "      <td>eBay</td>\n",
       "      <td>5.0</td>\n",
       "      <td>4.0</td>\n",
       "      <td>F</td>\n",
       "      <td>Online Stores &amp; Services</td>\n",
       "      <td>88</td>\n",
       "      <td>149.00</td>\n",
       "      <td>31</td>\n",
       "    </tr>\n",
       "    <tr>\n",
       "      <th>4</th>\n",
       "      <td>33</td>\n",
       "      <td>22300</td>\n",
       "      <td>Blair Witch...Oh Come On.......</td>\n",
       "      <td>Blair Witch Project</td>\n",
       "      <td>1.0</td>\n",
       "      <td>4.0</td>\n",
       "      <td>F</td>\n",
       "      <td>Movies</td>\n",
       "      <td>12</td>\n",
       "      <td>44.00</td>\n",
       "      <td>31</td>\n",
       "    </tr>\n",
       "  </tbody>\n",
       "</table>\n",
       "</div>"
      ],
      "text/plain": [
       "   userId  timestamp                           review                  item  \\\n",
       "0    4051      12807        Great job for what it is!                  eBay   \n",
       "1    4052     122899      Free Access Worth your Time               NetZero   \n",
       "2      33      12700    AOL..I love you!!!!!!!!!!!!    AOL (America Online)   \n",
       "3      33      21000     EBAY!!!  I LOVE YOU!!!! :-)*                  eBay   \n",
       "4      33      22300  Blair Witch...Oh Come On.......   Blair Witch Project   \n",
       "\n",
       "   rating  helpfulness gender                  category  item_id  item_price  \\\n",
       "0     5.0          2.0      F  Online Stores & Services       88      149.00   \n",
       "1     5.0          0.0      F  Online Stores & Services       46       53.00   \n",
       "2     5.0          4.0      F  Online Stores & Services        0      145.84   \n",
       "3     5.0          4.0      F  Online Stores & Services       88      149.00   \n",
       "4     1.0          4.0      F                    Movies       12       44.00   \n",
       "\n",
       "   user_city  \n",
       "0         39  \n",
       "1         39  \n",
       "2         31  \n",
       "3         31  \n",
       "4         31  "
      ]
     },
     "execution_count": 16,
     "metadata": {},
     "output_type": "execute_result"
    }
   ],
   "source": [
    "#Q1. Remove missing data\n",
    "\n",
    "#import the required modules\n",
    "import pandas as pd\n",
    "import numpy as np\n",
    "\n",
    "#data frame of given data set (csv file)\n",
    "df = pd.read_csv('/Users/Harika Akula/Documents/GitHub/data/The E-commerce Dataset.csv')    \n",
    "df.head()\n"
   ]
  },
  {
   "cell_type": "markdown",
   "id": "2cb9baad",
   "metadata": {},
   "source": [
    "**A1. Counting the number of Null values in each column**"
   ]
  },
  {
   "cell_type": "code",
   "execution_count": 8,
   "id": "ff313d6c",
   "metadata": {},
   "outputs": [
    {
     "name": "stdout",
     "output_type": "stream",
     "text": [
      "userId          0\n",
      "timestamp       0\n",
      "review          0\n",
      "item            0\n",
      "rating         17\n",
      "helpfulness    22\n",
      "gender         27\n",
      "category        0\n",
      "item_id         0\n",
      "item_price      0\n",
      "user_city       0\n",
      "dtype: int64\n"
     ]
    }
   ],
   "source": [
    "#Counting the number of Null values in each column\n",
    "\n",
    "count_null = df.isnull().sum()\n",
    "print(count_null)"
   ]
  },
  {
   "cell_type": "markdown",
   "id": "2c507992",
   "metadata": {},
   "source": [
    "**A1. Printing length of the data before and after removing the missing data**"
   ]
  },
  {
   "cell_type": "code",
   "execution_count": 9,
   "id": "21e36a2d",
   "metadata": {},
   "outputs": [
    {
     "name": "stdout",
     "output_type": "stream",
     "text": [
      "Length of data before missing the data: 20000\n",
      "Length of data after missing the data: 19916\n"
     ]
    }
   ],
   "source": [
    "#length of the data before and after removing the missing data\n",
    "\n",
    "columns = ['gender','rating','helpfulness']\n",
    "df_remove =  df.dropna(subset = columns)                #removed records with missing data (null values) of 'gender','rating','helpfulness' columns\n",
    "df_remove = df_remove[df_remove['review'] != 'none']    #removed records from above dataframe having column 'review'=none\n",
    "df_remove\n",
    "\n",
    "# length of dataset before missing the data\n",
    "df_len_before = len(df)\n",
    "print('Length of data before missing the data:', df_len_before)\n",
    "\n",
    "# length of dataset after missing the data\n",
    "df_len_after = len(df_remove)\n",
    "print('Length of data after missing the data:', df_len_after)\n"
   ]
  },
  {
   "cell_type": "markdown",
   "id": "4c10f59c",
   "metadata": {},
   "source": [
    "#### Q2. Descriptive statistics\n",
    "\n",
    "With the cleaned data in Q1, please provide the data summarization as below:\n",
    "\n",
    "* Q2.1 total number of unique users, unique reviews, unique items, and unique categories\n",
    "* Q2.2 descriptive statistics, e.g., the total number, mean, std, min and max regarding all rating records\n",
    "* Q2.3 descriptive statistics, e.g., mean, std, max, and min of the number of items rated by different genders \n",
    "* Q2.4 descriptive statistics, e.g., mean, std, max, min of the number of ratings that received by each items \n"
   ]
  },
  {
   "cell_type": "markdown",
   "id": "c58846e4",
   "metadata": {},
   "source": [
    "**A2.1. Total number of unique users, unique reviews, unique items, and unique categories**"
   ]
  },
  {
   "cell_type": "code",
   "execution_count": 10,
   "id": "e7a69b47",
   "metadata": {},
   "outputs": [
    {
     "name": "stdout",
     "output_type": "stream",
     "text": [
      "Total number of unique users: 8562\n",
      "Total number of unique reviews: 19459\n",
      "Total number of unique items: 89\n",
      "Total number of unique categories: 9\n"
     ]
    }
   ],
   "source": [
    "#Q2.1 total number of unique users, unique reviews, unique items, and unique categories\n",
    "\n",
    "df_remove     #cleaned data from Q1 (after removing missing data)\n",
    "df_unique_users = df_remove['userId'].nunique()\n",
    "print('Total number of unique users:', df_unique_users)\n",
    "\n",
    "df_unique_reviews = df_remove['review'].nunique()\n",
    "print('Total number of unique reviews:', df_unique_reviews)\n",
    "\n",
    "df_unique_items = df_remove['item'].nunique()\n",
    "print('Total number of unique items:', df_unique_items)\n",
    "\n",
    "df_unique_categories = df_remove['category'].nunique()\n",
    "print('Total number of unique categories:', df_unique_categories)"
   ]
  },
  {
   "cell_type": "markdown",
   "id": "8838fcba",
   "metadata": {},
   "source": [
    "**A2.2. Descriptive statistics regarding all rating records**"
   ]
  },
  {
   "cell_type": "code",
   "execution_count": 11,
   "id": "abd3736f",
   "metadata": {},
   "outputs": [
    {
     "name": "stdout",
     "output_type": "stream",
     "text": [
      "Total number of rating records: 19916\n",
      "Mean of all rating records: 3.7017975497087767\n",
      "Standard deviation of all rating records: 1.4044507218710944\n",
      "Minimum value of all rating records: 1.0\n",
      "Maximum value of all rating records: 5.0\n"
     ]
    }
   ],
   "source": [
    "#Q2.2 descriptive statistics, e.g., the total number, mean, std, min and max regarding all rating records\n",
    "\n",
    "total_number = df_remove['rating'].count()\n",
    "print('Total number of rating records:', total_number)\n",
    "\n",
    "mean_rating = df_remove['rating'].mean()\n",
    "print('Mean of all rating records:', mean_rating)\n",
    "\n",
    "std_rating = df_remove['rating'].std()\n",
    "print('Standard deviation of all rating records:', std_rating)\n",
    "\n",
    "minimum = df_remove['rating'].min()\n",
    "print('Minimum value of all rating records:', minimum)\n",
    "\n",
    "maximum = df_remove['rating'].max()\n",
    "print('Maximum value of all rating records:', maximum)"
   ]
  },
  {
   "cell_type": "markdown",
   "id": "4e873f80",
   "metadata": {},
   "source": [
    "**A2.3. Descriptive statistics of the number of items rated by different genders**"
   ]
  },
  {
   "cell_type": "code",
   "execution_count": 12,
   "id": "9faed880",
   "metadata": {},
   "outputs": [
    {
     "name": "stdout",
     "output_type": "stream",
     "text": [
      "            mean       std  min  max\n",
      "gender                              \n",
      "F       3.717451  1.395355  1.0  5.0\n",
      "M       3.686654  1.413098  1.0  5.0\n"
     ]
    }
   ],
   "source": [
    "#Q2.3 descriptive statistics, e.g., mean, std, max, and min of the number of items rated by different genders\n",
    "\n",
    "#mean, std, max, min of the number of items rated by different genders (grouped the data based on genders and performed aggregate functions on ratings)\n",
    "descp_stats_gender = df_remove.groupby('gender')['rating'].agg(['mean','std','min','max'])\n",
    "print(descp_stats_gender)\n"
   ]
  },
  {
   "cell_type": "markdown",
   "id": "00d0a96f",
   "metadata": {},
   "source": [
    "**A2.4. Descriptive statistics of the number of ratings that received by each items**"
   ]
  },
  {
   "cell_type": "code",
   "execution_count": 13,
   "id": "abb07537",
   "metadata": {},
   "outputs": [
    {
     "name": "stdout",
     "output_type": "stream",
     "text": [
      "                           mean       std  min  max\n",
      "item                                               \n",
      "AOL (America Online)   2.500532  1.368528  1.0  5.0\n",
      "All Advantage          3.412481  1.541706  1.0  5.0\n",
      "Alta Vista (by 1stUp)  3.541401  1.263341  1.0  5.0\n",
      "Amazon.com             3.683333  1.571095  1.0  5.0\n",
      "American Airlines      3.054054  1.417015  1.0  5.0\n",
      "...                         ...       ...  ...  ...\n",
      "Wendy's                3.971429  1.093322  1.0  5.0\n",
      "What Lies Beneath      3.450000  1.201676  1.0  5.0\n",
      "X-Men                  4.118367  0.853074  1.0  5.0\n",
      "X.com                  4.023121  1.474409  1.0  5.0\n",
      "eBay                   4.333893  0.949618  1.0  5.0\n",
      "\n",
      "[89 rows x 4 columns]\n"
     ]
    }
   ],
   "source": [
    "#Q2.4 descriptive statistics, e.g., mean, std, max, min of the number of ratings that received by each items\n",
    "\n",
    "#mean, std, max, min of the number of ratings that received by each items (grouped the data based on items and performed aggregate functions on ratings)\n",
    "descp_stats_items = df_remove.groupby('item')['rating'].agg(['mean','std','min','max'])\n",
    "print(descp_stats_items)\n"
   ]
  },
  {
   "cell_type": "markdown",
   "id": "3bfc254a",
   "metadata": {},
   "source": [
    "#### Q3. Plotting and Analysis\n",
    "\n",
    "Please try to explore the correlation between gender/helpfulness/category and ratings; for instance, do female/male users tend to provide higher ratings than male/female users? Hint: you may use the boxplot function to plot figures for comparison (___Challenge___)\n",
    "    \n",
    "You may need to select the most suitable graphic forms for ease of presentation. Most importantly, for each figure or subfigure, please summarise ___what each plot shows___ (i.e. observations and explanations). Finally, you may need to provide an overall summary of the data."
   ]
  },
  {
   "cell_type": "markdown",
   "id": "d0d45ff3",
   "metadata": {},
   "source": [
    "**A3. Exploring the correlation between gender, helpfulness, category and ratings using box plots**"
   ]
  },
  {
   "cell_type": "code",
   "execution_count": 14,
   "id": "716c4e70",
   "metadata": {},
   "outputs": [
    {
     "data": {
      "image/png": "[encoded data removed]",
      "text/plain": [
       "<Figure size 1440x1080 with 3 Axes>"
      ]
     },
     "metadata": {
      "needs_background": "light"
     },
     "output_type": "display_data"
    }
   ],
   "source": [
    "#Q3 Plotting and Analysis\n",
    "\n",
    "#import below libraries to get various plots\n",
    "import matplotlib.pyplot as plt\n",
    "import seaborn as sns\n",
    "\n",
    "fig, axes = plt.subplots(nrows = 3, ncols = 1, figsize = (20,15))\n",
    "\n",
    "#1.Gender vs. Ratings\n",
    "sns.boxplot(x = 'gender', y = 'rating', data = df_remove, ax = axes[0])\n",
    "axes[0].set_title('Gender vs. Ratings')\n",
    "\n",
    "#2.Helpfulness vs. Ratings\n",
    "sns.boxplot(x = 'helpfulness', y = 'rating', data = df_remove, ax = axes[1])\n",
    "axes[1].set_title('Helpfulness vs. Ratings')\n",
    "\n",
    "#3.Category vs. Ratings\n",
    "sns.boxplot(x = 'category', y = 'rating', data = df_remove, ax = axes[2])\n",
    "axes[2].set_title('Category vs. Ratings')\n",
    "\n",
    "plt.show()\n"
   ]
  },
  {
   "cell_type": "markdown",
   "id": "2febc7cc",
   "metadata": {},
   "source": [
    "## Observations on the above three box plots:\n",
    "\n",
    "#### 1. Observations on box plot 1 (Gender vs. Ratings)\n",
    "   * Female and male genders have equal rating = 4.0 (median).\n",
    "   * Both the genders have maximum rating (=5.0) (upper whisker = upper quartile).\n",
    "   * Both the genders are consistent in ratings (equal spread of ratings).\n",
    "      \n",
    "\n",
    "#### 2. Observations on box plot 2 (Helpfulness vs. Ratings)\n",
    "   * Clearly all the helpfulness values have same (=4) (median). \n",
    "   * The helpfulness value = 2.0 shows left skewness (which means all other users are rating from the values 2 to 5 i.e, more               spreadness of ratings).\n",
    "   * All the helpfulness values have maximum value (=5.0) (upper whisker=upper quartile).\n",
    "   * Helpfulness = 2.0 explains the average value of the ratings (between 2 and 5) given by all other users.\n",
    "      \n",
    "      \n",
    "#### 3. Observations on box plot 3 (Category vs. Ratings)\n",
    "   * The categories namely 'online stores & services', 'Movies', 'Restaurants & Gourmet', 'Personal Finance','Kids & family' and 'Hotels & travel' have same rating as 4 (median). \n",
    "   * Among all categories, 'Movies' category has less spread on ratings and more consistent (because of less spread of ratings). \n",
    "   * The categories namely 'Online stores & services', 'Movies', 'Restaurants & Gourmet', 'Personal Finance','Kids & family', 'Hotel & travel' and 'Games' have maximum rating (=5.0) (upper whisker = upper quartile).\n",
    "   * The category 'media' has minimum rating (=1.0) (lower whisker=lower quartile) and median rating is 2.0.\n",
    "   * The category 'Games' has maximum rating (=5.0) is equal to the upper quartile and no median value. This category have two outliers (of ratings = 1 and 2)\n",
    "   * The category 'Books' has 4 outliers (of ratings = 1,2,3,4), and have no median and whiskers. But has the maximum rating as 5.0\n"
   ]
  },
  {
   "cell_type": "markdown",
   "id": "98a1e460",
   "metadata": {},
   "source": [
    "#### Q4. Detect and remove outliers\n",
    "\n",
    "We may define outlier users, reviews and items with three rules (if a record meets one of the rules, it is regarded as an outlier):\n",
    "\n",
    "* reviews of which the helpfulness is no more than 2\n",
    "* users who rate less than 7 items\n",
    "* items that receives less than 11 ratings \n",
    " \n",
    "Please remove the corresponding records in the csv file that involves outlier users, reviews and items. After that, __print the length of the data__."
   ]
  },
  {
   "cell_type": "markdown",
   "id": "f9c79b7b",
   "metadata": {},
   "source": [
    "**A4. Printing length of data aftering removing outliers based on few conditions.**"
   ]
  },
  {
   "cell_type": "code",
   "execution_count": 15,
   "id": "868a5db2",
   "metadata": {},
   "outputs": [
    {
     "name": "stdout",
     "output_type": "stream",
     "text": [
      "Length of data aftering removing outliers regarding helpfulness: 13643\n",
      "Length of data aftering removing outliers regarding users: 2741\n",
      "Length of data aftering removing outliers regarding items: 2685\n",
      "Length of data after removing all the outliers: 2685\n"
     ]
    }
   ],
   "source": [
    "#Q4. Detect and remove outliers\n",
    "\n",
    "#select records of reviews of which the helpfulness greater than 2\n",
    "df_remove_outl = df_remove[df_remove['helpfulness'] > 2]  #Adding the records of reviews with 'helpfulness' greater than 2 to a new dataframe 'df_remove_outl'\n",
    "print(\"Length of data aftering removing outliers regarding helpfulness:\", len(df_remove_outl))\n",
    "\n",
    "\n",
    "#select records of users who rate greater than or equal to 7 items\n",
    "users = df_remove_outl['userId'].value_counts()      #count of individual users\n",
    "valid_users = users[users >= 7].index.tolist()      \n",
    "df_remove_outl = df_remove_outl[df_remove_outl['userId'].isin(valid_users)]  #Adding the records of users who rate greater than or equal to 7 to the above dataframe 'df_remove_outl'\n",
    "print(\"Length of data aftering removing outliers regarding users:\", len(df_remove_outl))\n",
    "\n",
    "\n",
    "#select records of items that receives greater than or equal to 11 ratings\n",
    "items = df_remove_outl['item'].value_counts()     #count of individual items\n",
    "valid_items = items[items >= 11].index.tolist() \n",
    "df_remove_outl = df_remove_outl[df_remove_outl['item'].isin(valid_items)]  #Adding the records of items with greater than or equal to 11 to the above dataframe 'df_remove_outl'\n",
    "print(\"Length of data aftering removing outliers regarding items:\", len(df_remove_outl))\n",
    "\n",
    "\n",
    "#finding the length of the above dataframe\n",
    "len_df_remove_outl = len(df_remove_outl)\n",
    "print('Length of data after removing all the outliers:', len_df_remove_outl)\n"
   ]
  },
  {
   "cell_type": "code",
   "execution_count": null,
   "id": "083d5541",
   "metadata": {},
   "outputs": [],
   "source": []
  }
 ],
 "metadata": {
  "kernelspec": {
   "display_name": "Python 3 (ipykernel)",
   "language": "python",
   "name": "python3"
  },
  "language_info": {
   "codemirror_mode": {
    "name": "ipython",
    "version": 3
   },
   "file_extension": ".py",
   "mimetype": "text/x-python",
   "name": "python",
   "nbconvert_exporter": "python",
   "pygments_lexer": "ipython3",
   "version": "3.9.7"
  }
 },
 "nbformat": 4,
 "nbformat_minor": 5
}
